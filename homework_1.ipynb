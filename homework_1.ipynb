{
 "cells": [
  {
   "cell_type": "code",
   "execution_count": 1,
   "id": "53f3c2f1",
   "metadata": {},
   "outputs": [
    {
     "name": "stdout",
     "output_type": "stream",
     "text": [
      "Requirement already satisfied: pandas in c:\\users\\user\\anaconda3\\lib\\site-packages (2.0.3)\n",
      "Requirement already satisfied: python-dateutil>=2.8.2 in c:\\users\\user\\anaconda3\\lib\\site-packages (from pandas) (2.8.2)\n",
      "Requirement already satisfied: pytz>=2020.1 in c:\\users\\user\\anaconda3\\lib\\site-packages (from pandas) (2023.3.post1)\n",
      "Requirement already satisfied: tzdata>=2022.1 in c:\\users\\user\\anaconda3\\lib\\site-packages (from pandas) (2023.3)\n",
      "Requirement already satisfied: numpy>=1.21.0 in c:\\users\\user\\anaconda3\\lib\\site-packages (from pandas) (1.24.3)\n",
      "Requirement already satisfied: six>=1.5 in c:\\users\\user\\anaconda3\\lib\\site-packages (from python-dateutil>=2.8.2->pandas) (1.16.0)\n"
     ]
    }
   ],
   "source": [
    "! pip install pandas"
   ]
  },
  {
   "cell_type": "code",
   "execution_count": 2,
   "id": "6448db3d",
   "metadata": {},
   "outputs": [],
   "source": [
    "import pandas as pd\n",
    "data = pd.read_csv('C:/Users/user/Desktop/hardest_best_boss.csv')"
   ]
  },
  {
   "cell_type": "code",
   "execution_count": 3,
   "id": "dca69a14",
   "metadata": {},
   "outputs": [
    {
     "data": {
      "text/html": [
       "<div>\n",
       "<style scoped>\n",
       "    .dataframe tbody tr th:only-of-type {\n",
       "        vertical-align: middle;\n",
       "    }\n",
       "\n",
       "    .dataframe tbody tr th {\n",
       "        vertical-align: top;\n",
       "    }\n",
       "\n",
       "    .dataframe thead th {\n",
       "        text-align: right;\n",
       "    }\n",
       "</style>\n",
       "<table border=\"1\" class=\"dataframe\">\n",
       "  <thead>\n",
       "    <tr style=\"text-align: right;\">\n",
       "      <th></th>\n",
       "      <th>hardest</th>\n",
       "      <th>best</th>\n",
       "    </tr>\n",
       "  </thead>\n",
       "  <tbody>\n",
       "    <tr>\n",
       "      <th>0</th>\n",
       "      <td>Malenia</td>\n",
       "      <td>Radahn</td>\n",
       "    </tr>\n",
       "    <tr>\n",
       "      <th>1</th>\n",
       "      <td>Maliketh</td>\n",
       "      <td>Godfrey</td>\n",
       "    </tr>\n",
       "    <tr>\n",
       "      <th>2</th>\n",
       "      <td>Placidusax</td>\n",
       "      <td>Maliketh</td>\n",
       "    </tr>\n",
       "    <tr>\n",
       "      <th>3</th>\n",
       "      <td>Radahn</td>\n",
       "      <td>Morgott</td>\n",
       "    </tr>\n",
       "    <tr>\n",
       "      <th>4</th>\n",
       "      <td>Godfrey</td>\n",
       "      <td>Lord Of Blood</td>\n",
       "    </tr>\n",
       "  </tbody>\n",
       "</table>\n",
       "</div>"
      ],
      "text/plain": [
       "      hardest           best\n",
       "0     Malenia         Radahn\n",
       "1    Maliketh        Godfrey\n",
       "2  Placidusax       Maliketh\n",
       "3      Radahn        Morgott\n",
       "4     Godfrey  Lord Of Blood"
      ]
     },
     "execution_count": 3,
     "metadata": {},
     "output_type": "execute_result"
    }
   ],
   "source": [
    "data.head()"
   ]
  },
  {
   "cell_type": "code",
   "execution_count": 4,
   "id": "39c0ae1f",
   "metadata": {},
   "outputs": [],
   "source": [
    "hardest = data.iloc[:,0]"
   ]
  },
  {
   "cell_type": "code",
   "execution_count": 5,
   "id": "9e7ae2e4",
   "metadata": {},
   "outputs": [
    {
     "data": {
      "text/plain": [
       "0       Malenia\n",
       "1      Maliketh\n",
       "2    Placidusax\n",
       "3        Radahn\n",
       "4       Godfrey\n",
       "Name: hardest, dtype: object"
      ]
     },
     "execution_count": 5,
     "metadata": {},
     "output_type": "execute_result"
    }
   ],
   "source": [
    "hardest.head()"
   ]
  },
  {
   "cell_type": "code",
   "execution_count": 6,
   "id": "b8540c43",
   "metadata": {},
   "outputs": [],
   "source": [
    "best = data.iloc[:,1]"
   ]
  },
  {
   "cell_type": "code",
   "execution_count": 7,
   "id": "22fb3246",
   "metadata": {},
   "outputs": [
    {
     "data": {
      "text/plain": [
       "0           Radahn\n",
       "1          Godfrey\n",
       "2         Maliketh\n",
       "3          Morgott\n",
       "4    Lord Of Blood\n",
       "Name: best, dtype: object"
      ]
     },
     "execution_count": 7,
     "metadata": {},
     "output_type": "execute_result"
    }
   ],
   "source": [
    "best.head()"
   ]
  },
  {
   "cell_type": "code",
   "execution_count": 10,
   "id": "5b601b68",
   "metadata": {},
   "outputs": [],
   "source": [
    "hardest = set(hardest)"
   ]
  },
  {
   "cell_type": "code",
   "execution_count": 11,
   "id": "556d774e",
   "metadata": {},
   "outputs": [
    {
     "data": {
      "text/plain": [
       "set"
      ]
     },
     "execution_count": 11,
     "metadata": {},
     "output_type": "execute_result"
    }
   ],
   "source": [
    "type(hardest)"
   ]
  },
  {
   "cell_type": "code",
   "execution_count": 12,
   "id": "7dba9299",
   "metadata": {},
   "outputs": [],
   "source": [
    "best = set(best)"
   ]
  },
  {
   "cell_type": "code",
   "execution_count": 13,
   "id": "dbd715f0",
   "metadata": {},
   "outputs": [],
   "source": [
    "union = hardest.union(best)\n",
    "intersection = hardest.intersection(best)\n",
    "difference = hardest.difference(best)"
   ]
  },
  {
   "cell_type": "code",
   "execution_count": 17,
   "id": "2e2f91cb",
   "metadata": {},
   "outputs": [
    {
     "name": "stdout",
     "output_type": "stream",
     "text": [
      "聯集 {'Placidusax', 'Maliketh', 'Margit', 'Ordovis', 'Godfrey', 'Lord Of Blood', 'Astel', 'Fortissax', 'Godskin_Apostle', 'Rennala', 'Godrick', 'Draconic_Tree_Sentinel', 'Morgott', 'Godskin_Duo', 'Malenia', 'Niall', 'Radagon', 'Rykard', 'Elden_Beast', 'Radahn'}\n",
      "交集 {'Placidusax', 'Rennala', 'Morgott', 'Maliketh', 'Margit', 'Malenia', 'Godfrey', 'Lord Of Blood', 'Astel', 'Radahn'}\n",
      "差集 {'Draconic_Tree_Sentinel', 'Godskin_Duo', 'Ordovis', 'Niall', 'Radagon'}\n"
     ]
    }
   ],
   "source": [
    "print(\"聯集\", union)\n",
    "print(\"交集\", intersection)\n",
    "print(\"差集\", difference)"
   ]
  },
  {
   "cell_type": "code",
   "execution_count": 20,
   "id": "6277fea0",
   "metadata": {},
   "outputs": [
    {
     "name": "stdout",
     "output_type": "stream",
     "text": [
      "比對Elden Ring遊戲中前15困難及前15優秀boss名單，發現困難的boss普遍獲得玩家的青睞，前15中有10個是玩家認為很優秀的\n",
      "\n",
      "Elden Ring遊戲中困難或優秀的boss {'Placidusax', 'Maliketh', 'Margit', 'Ordovis', 'Godfrey', 'Lord Of Blood', 'Astel', 'Fortissax', 'Godskin_Apostle', 'Rennala', 'Godrick', 'Draconic_Tree_Sentinel', 'Morgott', 'Godskin_Duo', 'Malenia', 'Niall', 'Radagon', 'Rykard', 'Elden_Beast', 'Radahn'}\n",
      "\n",
      "Elden Ring遊戲中困難且優秀的boss {'Placidusax', 'Rennala', 'Morgott', 'Maliketh', 'Margit', 'Malenia', 'Godfrey', 'Lord Of Blood', 'Astel', 'Radahn'}\n",
      "\n",
      "Elden Ring遊戲中困難但沒入選前15優秀的boss {'Draconic_Tree_Sentinel', 'Godskin_Duo', 'Ordovis', 'Niall', 'Radagon'}\n"
     ]
    }
   ],
   "source": [
    "print(\"比對Elden Ring遊戲中前15困難及前15優秀boss名單，發現困難的boss普遍獲得玩家的青睞，前15中有10個是玩家認為很優秀的\")\n",
    "print()\n",
    "print(\"Elden Ring遊戲中困難或優秀的boss\", union)\n",
    "print()\n",
    "print(\"Elden Ring遊戲中困難且優秀的boss\", intersection)\n",
    "print()\n",
    "print(\"Elden Ring遊戲中困難但沒入選前15優秀的boss\", difference)"
   ]
  },
  {
   "cell_type": "code",
   "execution_count": null,
   "id": "b92d91c9",
   "metadata": {},
   "outputs": [],
   "source": []
  }
 ],
 "metadata": {
  "kernelspec": {
   "display_name": "Python 3 (ipykernel)",
   "language": "python",
   "name": "python3"
  },
  "language_info": {
   "codemirror_mode": {
    "name": "ipython",
    "version": 3
   },
   "file_extension": ".py",
   "mimetype": "text/x-python",
   "name": "python",
   "nbconvert_exporter": "python",
   "pygments_lexer": "ipython3",
   "version": "3.11.5"
  }
 },
 "nbformat": 4,
 "nbformat_minor": 5
}
